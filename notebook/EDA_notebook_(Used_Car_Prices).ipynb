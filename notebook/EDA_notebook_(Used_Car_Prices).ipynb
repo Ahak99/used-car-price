{
  "cells": [
    {
      "cell_type": "markdown",
      "id": "1e233234",
      "metadata": {
        "id": "1e233234"
      },
      "source": [
        "## Used Car Prices\n"
      ]
    },
    {
      "cell_type": "markdown",
      "id": "62e05101",
      "metadata": {
        "id": "62e05101"
      },
      "source": [
        "#### Life cycle of Machine learning Project\n",
        "\n",
        "- Understanding the Problem Statement\n",
        "- Data Collection\n",
        "- Data Checks to perform\n",
        "- Exploratory data analysis\n",
        "- Conclusion"
      ]
    },
    {
      "cell_type": "markdown",
      "id": "dfcea981",
      "metadata": {
        "id": "dfcea981"
      },
      "source": [
        "### 1) Problem statement\n",
        "- The provided contains various details and attributes associated with used cars. The target variable, which is the central focus of analysis, is the price of the used cars, and it is measured in lakhs."
      ]
    },
    {
      "cell_type": "code",
      "source": [],
      "metadata": {
        "id": "HdDseSfF0t3f"
      },
      "id": "HdDseSfF0t3f",
      "execution_count": null,
      "outputs": []
    },
    {
      "cell_type": "markdown",
      "source": [
        "### 2) Data Collection\n",
        "- Dataset Source - https://www.kaggle.com/datasets/sujay1844/used-car-prices\n",
        "\n",
        "- The data consists of 12 column and 5847 rows."
      ],
      "metadata": {
        "id": "1Ari1_gp0uaF"
      },
      "id": "1Ari1_gp0uaF"
    },
    {
      "cell_type": "code",
      "source": [],
      "metadata": {
        "id": "ijt9wzaW0v-A"
      },
      "id": "ijt9wzaW0v-A",
      "execution_count": null,
      "outputs": []
    },
    {
      "cell_type": "markdown",
      "id": "15b1355f",
      "metadata": {
        "id": "15b1355f"
      },
      "source": [
        "### 2.1 Import Data and Required Packages\n",
        "####  Importing Pandas, Numpy, Matplotlib, Seaborn and Warings Library."
      ]
    },
    {
      "cell_type": "code",
      "execution_count": null,
      "id": "7eaae1d7",
      "metadata": {
        "id": "7eaae1d7"
      },
      "outputs": [],
      "source": [
        "import numpy as np\n",
        "import pandas as pd\n",
        "import seaborn as sns\n",
        "import matplotlib.pyplot as plt\n",
        "%matplotlib inline\n",
        "import warnings\n",
        "warnings.filterwarnings('ignore')"
      ]
    },
    {
      "cell_type": "markdown",
      "id": "3caeb0bb",
      "metadata": {
        "id": "3caeb0bb"
      },
      "source": [
        "#### Import the CSV Data as Pandas DataFrame"
      ]
    },
    {
      "cell_type": "code",
      "execution_count": null,
      "id": "57907087",
      "metadata": {
        "id": "57907087"
      },
      "outputs": [],
      "source": [
        "df = pd.read_csv('used_car_price.csv')\n",
        "df.drop(columns = df.columns[0], axis=1, inplace=True)"
      ]
    },
    {
      "cell_type": "markdown",
      "id": "92c8fd8a",
      "metadata": {
        "id": "92c8fd8a"
      },
      "source": [
        "#### Show Top 5 Records"
      ]
    },
    {
      "cell_type": "code",
      "execution_count": null,
      "id": "7d1a2a0b",
      "metadata": {
        "colab": {
          "base_uri": "https://localhost:8080/",
          "height": 206
        },
        "id": "7d1a2a0b",
        "outputId": "9862b5cc-512c-4fb7-85f0-88fc165e4737"
      },
      "outputs": [
        {
          "output_type": "execute_result",
          "data": {
            "text/plain": [
              "                               Name    Location  Year  Kilometers_Driven  \\\n",
              "0  Hyundai Creta 1.6 CRDi SX Option        Pune  2015              41000   \n",
              "1                      Honda Jazz V     Chennai  2011              46000   \n",
              "2                 Maruti Ertiga VDI     Chennai  2012              87000   \n",
              "3   Audi A4 New 2.0 TDI Multitronic  Coimbatore  2013              40670   \n",
              "4            Nissan Micra Diesel XV      Jaipur  2013              86999   \n",
              "\n",
              "  Fuel_Type Transmission Owner_Type     Mileage   Engine      Power  Seats  \\\n",
              "0    Diesel       Manual      First  19.67 kmpl  1582 CC  126.2 bhp    5.0   \n",
              "1    Petrol       Manual      First    13 km/kg  1199 CC   88.7 bhp    5.0   \n",
              "2    Diesel       Manual      First  20.77 kmpl  1248 CC  88.76 bhp    7.0   \n",
              "3    Diesel    Automatic     Second   15.2 kmpl  1968 CC  140.8 bhp    5.0   \n",
              "4    Diesel       Manual      First  23.08 kmpl  1461 CC   63.1 bhp    5.0   \n",
              "\n",
              "   New_Price  Price  \n",
              "0        NaN  12.50  \n",
              "1  8.61 Lakh   4.50  \n",
              "2        NaN   6.00  \n",
              "3        NaN  17.74  \n",
              "4        NaN   3.50  "
            ],
            "text/html": [
              "\n",
              "  <div id=\"df-70266969-e9cb-4665-99e1-02e634fcfe43\" class=\"colab-df-container\">\n",
              "    <div>\n",
              "<style scoped>\n",
              "    .dataframe tbody tr th:only-of-type {\n",
              "        vertical-align: middle;\n",
              "    }\n",
              "\n",
              "    .dataframe tbody tr th {\n",
              "        vertical-align: top;\n",
              "    }\n",
              "\n",
              "    .dataframe thead th {\n",
              "        text-align: right;\n",
              "    }\n",
              "</style>\n",
              "<table border=\"1\" class=\"dataframe\">\n",
              "  <thead>\n",
              "    <tr style=\"text-align: right;\">\n",
              "      <th></th>\n",
              "      <th>Name</th>\n",
              "      <th>Location</th>\n",
              "      <th>Year</th>\n",
              "      <th>Kilometers_Driven</th>\n",
              "      <th>Fuel_Type</th>\n",
              "      <th>Transmission</th>\n",
              "      <th>Owner_Type</th>\n",
              "      <th>Mileage</th>\n",
              "      <th>Engine</th>\n",
              "      <th>Power</th>\n",
              "      <th>Seats</th>\n",
              "      <th>New_Price</th>\n",
              "      <th>Price</th>\n",
              "    </tr>\n",
              "  </thead>\n",
              "  <tbody>\n",
              "    <tr>\n",
              "      <th>0</th>\n",
              "      <td>Hyundai Creta 1.6 CRDi SX Option</td>\n",
              "      <td>Pune</td>\n",
              "      <td>2015</td>\n",
              "      <td>41000</td>\n",
              "      <td>Diesel</td>\n",
              "      <td>Manual</td>\n",
              "      <td>First</td>\n",
              "      <td>19.67 kmpl</td>\n",
              "      <td>1582 CC</td>\n",
              "      <td>126.2 bhp</td>\n",
              "      <td>5.0</td>\n",
              "      <td>NaN</td>\n",
              "      <td>12.50</td>\n",
              "    </tr>\n",
              "    <tr>\n",
              "      <th>1</th>\n",
              "      <td>Honda Jazz V</td>\n",
              "      <td>Chennai</td>\n",
              "      <td>2011</td>\n",
              "      <td>46000</td>\n",
              "      <td>Petrol</td>\n",
              "      <td>Manual</td>\n",
              "      <td>First</td>\n",
              "      <td>13 km/kg</td>\n",
              "      <td>1199 CC</td>\n",
              "      <td>88.7 bhp</td>\n",
              "      <td>5.0</td>\n",
              "      <td>8.61 Lakh</td>\n",
              "      <td>4.50</td>\n",
              "    </tr>\n",
              "    <tr>\n",
              "      <th>2</th>\n",
              "      <td>Maruti Ertiga VDI</td>\n",
              "      <td>Chennai</td>\n",
              "      <td>2012</td>\n",
              "      <td>87000</td>\n",
              "      <td>Diesel</td>\n",
              "      <td>Manual</td>\n",
              "      <td>First</td>\n",
              "      <td>20.77 kmpl</td>\n",
              "      <td>1248 CC</td>\n",
              "      <td>88.76 bhp</td>\n",
              "      <td>7.0</td>\n",
              "      <td>NaN</td>\n",
              "      <td>6.00</td>\n",
              "    </tr>\n",
              "    <tr>\n",
              "      <th>3</th>\n",
              "      <td>Audi A4 New 2.0 TDI Multitronic</td>\n",
              "      <td>Coimbatore</td>\n",
              "      <td>2013</td>\n",
              "      <td>40670</td>\n",
              "      <td>Diesel</td>\n",
              "      <td>Automatic</td>\n",
              "      <td>Second</td>\n",
              "      <td>15.2 kmpl</td>\n",
              "      <td>1968 CC</td>\n",
              "      <td>140.8 bhp</td>\n",
              "      <td>5.0</td>\n",
              "      <td>NaN</td>\n",
              "      <td>17.74</td>\n",
              "    </tr>\n",
              "    <tr>\n",
              "      <th>4</th>\n",
              "      <td>Nissan Micra Diesel XV</td>\n",
              "      <td>Jaipur</td>\n",
              "      <td>2013</td>\n",
              "      <td>86999</td>\n",
              "      <td>Diesel</td>\n",
              "      <td>Manual</td>\n",
              "      <td>First</td>\n",
              "      <td>23.08 kmpl</td>\n",
              "      <td>1461 CC</td>\n",
              "      <td>63.1 bhp</td>\n",
              "      <td>5.0</td>\n",
              "      <td>NaN</td>\n",
              "      <td>3.50</td>\n",
              "    </tr>\n",
              "  </tbody>\n",
              "</table>\n",
              "</div>\n",
              "    <div class=\"colab-df-buttons\">\n",
              "\n",
              "  <div class=\"colab-df-container\">\n",
              "    <button class=\"colab-df-convert\" onclick=\"convertToInteractive('df-70266969-e9cb-4665-99e1-02e634fcfe43')\"\n",
              "            title=\"Convert this dataframe to an interactive table.\"\n",
              "            style=\"display:none;\">\n",
              "\n",
              "  <svg xmlns=\"http://www.w3.org/2000/svg\" height=\"24px\" viewBox=\"0 -960 960 960\">\n",
              "    <path d=\"M120-120v-720h720v720H120Zm60-500h600v-160H180v160Zm220 220h160v-160H400v160Zm0 220h160v-160H400v160ZM180-400h160v-160H180v160Zm440 0h160v-160H620v160ZM180-180h160v-160H180v160Zm440 0h160v-160H620v160Z\"/>\n",
              "  </svg>\n",
              "    </button>\n",
              "\n",
              "  <style>\n",
              "    .colab-df-container {\n",
              "      display:flex;\n",
              "      gap: 12px;\n",
              "    }\n",
              "\n",
              "    .colab-df-convert {\n",
              "      background-color: #E8F0FE;\n",
              "      border: none;\n",
              "      border-radius: 50%;\n",
              "      cursor: pointer;\n",
              "      display: none;\n",
              "      fill: #1967D2;\n",
              "      height: 32px;\n",
              "      padding: 0 0 0 0;\n",
              "      width: 32px;\n",
              "    }\n",
              "\n",
              "    .colab-df-convert:hover {\n",
              "      background-color: #E2EBFA;\n",
              "      box-shadow: 0px 1px 2px rgba(60, 64, 67, 0.3), 0px 1px 3px 1px rgba(60, 64, 67, 0.15);\n",
              "      fill: #174EA6;\n",
              "    }\n",
              "\n",
              "    .colab-df-buttons div {\n",
              "      margin-bottom: 4px;\n",
              "    }\n",
              "\n",
              "    [theme=dark] .colab-df-convert {\n",
              "      background-color: #3B4455;\n",
              "      fill: #D2E3FC;\n",
              "    }\n",
              "\n",
              "    [theme=dark] .colab-df-convert:hover {\n",
              "      background-color: #434B5C;\n",
              "      box-shadow: 0px 1px 3px 1px rgba(0, 0, 0, 0.15);\n",
              "      filter: drop-shadow(0px 1px 2px rgba(0, 0, 0, 0.3));\n",
              "      fill: #FFFFFF;\n",
              "    }\n",
              "  </style>\n",
              "\n",
              "    <script>\n",
              "      const buttonEl =\n",
              "        document.querySelector('#df-70266969-e9cb-4665-99e1-02e634fcfe43 button.colab-df-convert');\n",
              "      buttonEl.style.display =\n",
              "        google.colab.kernel.accessAllowed ? 'block' : 'none';\n",
              "\n",
              "      async function convertToInteractive(key) {\n",
              "        const element = document.querySelector('#df-70266969-e9cb-4665-99e1-02e634fcfe43');\n",
              "        const dataTable =\n",
              "          await google.colab.kernel.invokeFunction('convertToInteractive',\n",
              "                                                    [key], {});\n",
              "        if (!dataTable) return;\n",
              "\n",
              "        const docLinkHtml = 'Like what you see? Visit the ' +\n",
              "          '<a target=\"_blank\" href=https://colab.research.google.com/notebooks/data_table.ipynb>data table notebook</a>'\n",
              "          + ' to learn more about interactive tables.';\n",
              "        element.innerHTML = '';\n",
              "        dataTable['output_type'] = 'display_data';\n",
              "        await google.colab.output.renderOutput(dataTable, element);\n",
              "        const docLink = document.createElement('div');\n",
              "        docLink.innerHTML = docLinkHtml;\n",
              "        element.appendChild(docLink);\n",
              "      }\n",
              "    </script>\n",
              "  </div>\n",
              "\n",
              "\n",
              "<div id=\"df-9e9612ca-21cc-49bd-b42b-63144da0f921\">\n",
              "  <button class=\"colab-df-quickchart\" onclick=\"quickchart('df-9e9612ca-21cc-49bd-b42b-63144da0f921')\"\n",
              "            title=\"Suggest charts.\"\n",
              "            style=\"display:none;\">\n",
              "\n",
              "<svg xmlns=\"http://www.w3.org/2000/svg\" height=\"24px\"viewBox=\"0 0 24 24\"\n",
              "     width=\"24px\">\n",
              "    <g>\n",
              "        <path d=\"M19 3H5c-1.1 0-2 .9-2 2v14c0 1.1.9 2 2 2h14c1.1 0 2-.9 2-2V5c0-1.1-.9-2-2-2zM9 17H7v-7h2v7zm4 0h-2V7h2v10zm4 0h-2v-4h2v4z\"/>\n",
              "    </g>\n",
              "</svg>\n",
              "  </button>\n",
              "\n",
              "<style>\n",
              "  .colab-df-quickchart {\n",
              "      --bg-color: #E8F0FE;\n",
              "      --fill-color: #1967D2;\n",
              "      --hover-bg-color: #E2EBFA;\n",
              "      --hover-fill-color: #174EA6;\n",
              "      --disabled-fill-color: #AAA;\n",
              "      --disabled-bg-color: #DDD;\n",
              "  }\n",
              "\n",
              "  [theme=dark] .colab-df-quickchart {\n",
              "      --bg-color: #3B4455;\n",
              "      --fill-color: #D2E3FC;\n",
              "      --hover-bg-color: #434B5C;\n",
              "      --hover-fill-color: #FFFFFF;\n",
              "      --disabled-bg-color: #3B4455;\n",
              "      --disabled-fill-color: #666;\n",
              "  }\n",
              "\n",
              "  .colab-df-quickchart {\n",
              "    background-color: var(--bg-color);\n",
              "    border: none;\n",
              "    border-radius: 50%;\n",
              "    cursor: pointer;\n",
              "    display: none;\n",
              "    fill: var(--fill-color);\n",
              "    height: 32px;\n",
              "    padding: 0;\n",
              "    width: 32px;\n",
              "  }\n",
              "\n",
              "  .colab-df-quickchart:hover {\n",
              "    background-color: var(--hover-bg-color);\n",
              "    box-shadow: 0 1px 2px rgba(60, 64, 67, 0.3), 0 1px 3px 1px rgba(60, 64, 67, 0.15);\n",
              "    fill: var(--button-hover-fill-color);\n",
              "  }\n",
              "\n",
              "  .colab-df-quickchart-complete:disabled,\n",
              "  .colab-df-quickchart-complete:disabled:hover {\n",
              "    background-color: var(--disabled-bg-color);\n",
              "    fill: var(--disabled-fill-color);\n",
              "    box-shadow: none;\n",
              "  }\n",
              "\n",
              "  .colab-df-spinner {\n",
              "    border: 2px solid var(--fill-color);\n",
              "    border-color: transparent;\n",
              "    border-bottom-color: var(--fill-color);\n",
              "    animation:\n",
              "      spin 1s steps(1) infinite;\n",
              "  }\n",
              "\n",
              "  @keyframes spin {\n",
              "    0% {\n",
              "      border-color: transparent;\n",
              "      border-bottom-color: var(--fill-color);\n",
              "      border-left-color: var(--fill-color);\n",
              "    }\n",
              "    20% {\n",
              "      border-color: transparent;\n",
              "      border-left-color: var(--fill-color);\n",
              "      border-top-color: var(--fill-color);\n",
              "    }\n",
              "    30% {\n",
              "      border-color: transparent;\n",
              "      border-left-color: var(--fill-color);\n",
              "      border-top-color: var(--fill-color);\n",
              "      border-right-color: var(--fill-color);\n",
              "    }\n",
              "    40% {\n",
              "      border-color: transparent;\n",
              "      border-right-color: var(--fill-color);\n",
              "      border-top-color: var(--fill-color);\n",
              "    }\n",
              "    60% {\n",
              "      border-color: transparent;\n",
              "      border-right-color: var(--fill-color);\n",
              "    }\n",
              "    80% {\n",
              "      border-color: transparent;\n",
              "      border-right-color: var(--fill-color);\n",
              "      border-bottom-color: var(--fill-color);\n",
              "    }\n",
              "    90% {\n",
              "      border-color: transparent;\n",
              "      border-bottom-color: var(--fill-color);\n",
              "    }\n",
              "  }\n",
              "</style>\n",
              "\n",
              "  <script>\n",
              "    async function quickchart(key) {\n",
              "      const quickchartButtonEl =\n",
              "        document.querySelector('#' + key + ' button');\n",
              "      quickchartButtonEl.disabled = true;  // To prevent multiple clicks.\n",
              "      quickchartButtonEl.classList.add('colab-df-spinner');\n",
              "      try {\n",
              "        const charts = await google.colab.kernel.invokeFunction(\n",
              "            'suggestCharts', [key], {});\n",
              "      } catch (error) {\n",
              "        console.error('Error during call to suggestCharts:', error);\n",
              "      }\n",
              "      quickchartButtonEl.classList.remove('colab-df-spinner');\n",
              "      quickchartButtonEl.classList.add('colab-df-quickchart-complete');\n",
              "    }\n",
              "    (() => {\n",
              "      let quickchartButtonEl =\n",
              "        document.querySelector('#df-9e9612ca-21cc-49bd-b42b-63144da0f921 button');\n",
              "      quickchartButtonEl.style.display =\n",
              "        google.colab.kernel.accessAllowed ? 'block' : 'none';\n",
              "    })();\n",
              "  </script>\n",
              "</div>\n",
              "    </div>\n",
              "  </div>\n"
            ]
          },
          "metadata": {},
          "execution_count": 170
        }
      ],
      "source": [
        "df.head()"
      ]
    },
    {
      "cell_type": "markdown",
      "id": "56a49220",
      "metadata": {
        "id": "56a49220"
      },
      "source": [
        "#### Shape of the dataset"
      ]
    },
    {
      "cell_type": "code",
      "execution_count": null,
      "id": "417e5820",
      "metadata": {
        "colab": {
          "base_uri": "https://localhost:8080/"
        },
        "id": "417e5820",
        "outputId": "b864226c-89f4-4101-8a9f-948587ec9d39"
      },
      "outputs": [
        {
          "output_type": "execute_result",
          "data": {
            "text/plain": [
              "(5847, 13)"
            ]
          },
          "metadata": {},
          "execution_count": 171
        }
      ],
      "source": [
        "df.shape"
      ]
    },
    {
      "cell_type": "markdown",
      "id": "041aa39d",
      "metadata": {
        "id": "041aa39d"
      },
      "source": [
        "### 2.2 Dataset information"
      ]
    },
    {
      "cell_type": "markdown",
      "id": "7e3cff9d",
      "metadata": {
        "id": "7e3cff9d"
      },
      "source": [
        "- Make and model of the car\n",
        "- Location or city of sale\n",
        "- Year of manufacture\n",
        "- Mileage\n",
        "- Odometer (kilometers driven)\n",
        "- Fuel type (petrol or diesel)\n",
        "- Transmission type (manual or automatic)\n",
        "- Number of owners\n",
        "- Engine displacement\n",
        "- Engine horsepower\n",
        "- Number of seats\n",
        "- Price when the car was new\n",
        "\n"
      ]
    },
    {
      "cell_type": "markdown",
      "source": [
        "### 2.3 Dataset preparation"
      ],
      "metadata": {
        "id": "pJHQdC5UezUu"
      },
      "id": "pJHQdC5UezUu"
    },
    {
      "cell_type": "markdown",
      "source": [
        "The following features contain added string units, to make it easy for the model to train, we'll add the unit at the top, with the column name"
      ],
      "metadata": {
        "id": "Z4F5ktOxe8jP"
      },
      "id": "Z4F5ktOxe8jP"
    },
    {
      "cell_type": "code",
      "source": [
        "df[\"Mileage\"] = [float(str(i).split(\" \")[0]) for i in  df[\"Mileage\"].values]\n",
        "df[\"Engine\"] = [float(str(i).split(\" \")[0]) for i in  df[\"Engine\"].values]\n",
        "df[\"Power\"] = [float(str(i).split(\" \")[0]) for i in  df[\"Power\"].values]\n",
        "\n",
        "df = df.rename(columns={'Mileage': 'Mileage (kmpl)', 'Engine': 'Engine (CC)', 'Power': 'Power (bhp)'})"
      ],
      "metadata": {
        "id": "Nbc4OehNeyFn"
      },
      "id": "Nbc4OehNeyFn",
      "execution_count": null,
      "outputs": []
    },
    {
      "cell_type": "markdown",
      "source": [
        "Also, in our case study, we won't take the car name in consideration"
      ],
      "metadata": {
        "id": "7gL4LuDnhUUv"
      },
      "id": "7gL4LuDnhUUv"
    },
    {
      "cell_type": "code",
      "source": [
        "df.drop(columns = \"Name\", axis=1, inplace=True)"
      ],
      "metadata": {
        "id": "s3KQxiWGhirx"
      },
      "id": "s3KQxiWGhirx",
      "execution_count": null,
      "outputs": []
    },
    {
      "cell_type": "code",
      "source": [],
      "metadata": {
        "id": "JYLPSC-w0pvP"
      },
      "id": "JYLPSC-w0pvP",
      "execution_count": null,
      "outputs": []
    },
    {
      "cell_type": "markdown",
      "id": "27c4b61b",
      "metadata": {
        "id": "27c4b61b"
      },
      "source": [
        "### 3. Data Checks to perform\n",
        "\n",
        "- Check Missing values\n",
        "- Check Duplicates\n",
        "- Check data type\n",
        "- Check the number of unique values of each column\n",
        "- Check statistics of data set\n",
        "- Check various categories present in the different categorical column"
      ]
    },
    {
      "cell_type": "markdown",
      "id": "c31d4123",
      "metadata": {
        "id": "c31d4123"
      },
      "source": [
        "### 3.1 Check Missing values"
      ]
    },
    {
      "cell_type": "code",
      "execution_count": null,
      "id": "707d6a7b",
      "metadata": {
        "colab": {
          "base_uri": "https://localhost:8080/"
        },
        "id": "707d6a7b",
        "outputId": "de3632e5-d3d4-4b42-f8ce-3ce22e9be66f"
      },
      "outputs": [
        {
          "output_type": "execute_result",
          "data": {
            "text/plain": [
              "Location                0\n",
              "Year                    0\n",
              "Kilometers_Driven       0\n",
              "Fuel_Type               0\n",
              "Transmission            0\n",
              "Owner_Type              0\n",
              "Mileage (kmpl)          2\n",
              "Engine (CC)            36\n",
              "Power (bhp)            36\n",
              "Seats                  38\n",
              "New_Price            5032\n",
              "Price                   0\n",
              "dtype: int64"
            ]
          },
          "metadata": {},
          "execution_count": 174
        }
      ],
      "source": [
        "df.isna().sum()"
      ]
    },
    {
      "cell_type": "markdown",
      "id": "ce8f7b83",
      "metadata": {
        "id": "ce8f7b83"
      },
      "source": [
        "#### There are missing values in the data set in the following columns :\n",
        "\n",
        "*   Mileage (kmpl) 2 (for this feature, we'll delete the rows canitaining nan values)\n",
        "*   Engine (CC) 36 (for this feature, we'll replace the NaN values by the mean values)\n",
        "*   Power (bhp) 36 (for this feature, we'll replace the NaN values by the mean values)\n",
        "*   Seats 38 (for this feature, we'll replace the NaN values by the mean values)\n",
        "*   New_Price 5032 (for this feature, because there is a lot of missing values \"86%\", we won't take it in consederation in our study)\n"
      ]
    },
    {
      "cell_type": "code",
      "source": [
        "df[\"Mileage (kmpl)\"].dropna(inplace=True)\n",
        "df[\"Engine (CC)\"].fillna(df[\"Seats\"].mean(), inplace=True)\n",
        "df[\"Power (bhp)\"].fillna(df[\"Seats\"].mean(), inplace=True)\n",
        "df[\"Seats\"].fillna(df[\"Seats\"].mean(), inplace=True)\n",
        "df.dropna(subset = [\"Mileage (kmpl)\"], inplace=True)\n",
        "df.drop(columns = \"New_Price\", axis=1, inplace=True)"
      ],
      "metadata": {
        "id": "tl-2WTAybGoN"
      },
      "id": "tl-2WTAybGoN",
      "execution_count": null,
      "outputs": []
    },
    {
      "cell_type": "code",
      "source": [
        "df.isna().sum()"
      ],
      "metadata": {
        "colab": {
          "base_uri": "https://localhost:8080/"
        },
        "id": "NbzzvvOFg1PZ",
        "outputId": "26b5a6b6-4bb6-4a53-d635-c1fcdc84e214"
      },
      "id": "NbzzvvOFg1PZ",
      "execution_count": null,
      "outputs": [
        {
          "output_type": "execute_result",
          "data": {
            "text/plain": [
              "Location             0\n",
              "Year                 0\n",
              "Kilometers_Driven    0\n",
              "Fuel_Type            0\n",
              "Transmission         0\n",
              "Owner_Type           0\n",
              "Mileage (kmpl)       0\n",
              "Engine (CC)          0\n",
              "Power (bhp)          0\n",
              "Seats                0\n",
              "Price                0\n",
              "dtype: int64"
            ]
          },
          "metadata": {},
          "execution_count": 176
        }
      ]
    },
    {
      "cell_type": "markdown",
      "source": [
        "There are no missing values in the data set anymore, now **WE ARE READY TO GO**"
      ],
      "metadata": {
        "id": "n3mDIxoBhC2q"
      },
      "id": "n3mDIxoBhC2q"
    },
    {
      "cell_type": "markdown",
      "id": "5840ff7f",
      "metadata": {
        "id": "5840ff7f"
      },
      "source": [
        "### 3.2 Check Duplicates"
      ]
    },
    {
      "cell_type": "code",
      "execution_count": null,
      "id": "ae16686e",
      "metadata": {
        "colab": {
          "base_uri": "https://localhost:8080/"
        },
        "id": "ae16686e",
        "outputId": "38d534dd-6f17-4352-87db-86475cf3deb1"
      },
      "outputs": [
        {
          "output_type": "execute_result",
          "data": {
            "text/plain": [
              "2"
            ]
          },
          "metadata": {},
          "execution_count": 177
        }
      ],
      "source": [
        "df.duplicated().sum()"
      ]
    },
    {
      "cell_type": "markdown",
      "id": "e5d7ae8e",
      "metadata": {
        "id": "e5d7ae8e"
      },
      "source": [
        "#### There are 2 duplicates  values in the data set"
      ]
    },
    {
      "cell_type": "code",
      "source": [
        "df.drop_duplicates(inplace = True)"
      ],
      "metadata": {
        "id": "p708z22aCcgL"
      },
      "id": "p708z22aCcgL",
      "execution_count": null,
      "outputs": []
    },
    {
      "cell_type": "code",
      "source": [
        "df.duplicated().sum()"
      ],
      "metadata": {
        "colab": {
          "base_uri": "https://localhost:8080/"
        },
        "id": "up2hvTwLD--p",
        "outputId": "774f36d2-5d4c-4e35-d39e-b449b79ad7f7"
      },
      "id": "up2hvTwLD--p",
      "execution_count": null,
      "outputs": [
        {
          "output_type": "execute_result",
          "data": {
            "text/plain": [
              "0"
            ]
          },
          "metadata": {},
          "execution_count": 179
        }
      ]
    },
    {
      "cell_type": "markdown",
      "source": [
        "There are no duplicates values in the data set anymore, now **WE ARE READY TO GO**"
      ],
      "metadata": {
        "id": "pqq14paPEBZq"
      },
      "id": "pqq14paPEBZq"
    },
    {
      "cell_type": "markdown",
      "source": [
        "#### Save the clean data"
      ],
      "metadata": {
        "id": "LQ21X8lR-0vI"
      },
      "id": "LQ21X8lR-0vI"
    },
    {
      "cell_type": "code",
      "source": [
        "df.to_csv(\"data_UCP.csv\", index=False)"
      ],
      "metadata": {
        "id": "yR9j5-pU--lg"
      },
      "id": "yR9j5-pU--lg",
      "execution_count": null,
      "outputs": []
    },
    {
      "cell_type": "markdown",
      "id": "30dfacc8",
      "metadata": {
        "id": "30dfacc8"
      },
      "source": [
        "### 3.3 Check data types"
      ]
    },
    {
      "cell_type": "code",
      "execution_count": null,
      "id": "25f95bc8",
      "metadata": {
        "colab": {
          "base_uri": "https://localhost:8080/"
        },
        "id": "25f95bc8",
        "outputId": "6553cb7d-5160-4f47-8f17-f7d4b6339bf3"
      },
      "outputs": [
        {
          "output_type": "stream",
          "name": "stdout",
          "text": [
            "<class 'pandas.core.frame.DataFrame'>\n",
            "Int64Index: 5843 entries, 0 to 5846\n",
            "Data columns (total 11 columns):\n",
            " #   Column             Non-Null Count  Dtype  \n",
            "---  ------             --------------  -----  \n",
            " 0   Location           5843 non-null   object \n",
            " 1   Year               5843 non-null   int64  \n",
            " 2   Kilometers_Driven  5843 non-null   int64  \n",
            " 3   Fuel_Type          5843 non-null   object \n",
            " 4   Transmission       5843 non-null   object \n",
            " 5   Owner_Type         5843 non-null   object \n",
            " 6   Mileage (kmpl)     5843 non-null   float64\n",
            " 7   Engine (CC)        5843 non-null   float64\n",
            " 8   Power (bhp)        5843 non-null   float64\n",
            " 9   Seats              5843 non-null   float64\n",
            " 10  Price              5843 non-null   float64\n",
            "dtypes: float64(5), int64(2), object(4)\n",
            "memory usage: 547.8+ KB\n"
          ]
        }
      ],
      "source": [
        "# Check Null and Dtypes\n",
        "df.info()"
      ]
    },
    {
      "cell_type": "markdown",
      "source": [
        "Normaly **Mileage (kmpl)**, **Power (CC)**, **Power (bhp)** should be numeric values, whereas they are categoircal. So a type transformation is needed"
      ],
      "metadata": {
        "id": "9CtYGnsaAC8_"
      },
      "id": "9CtYGnsaAC8_"
    },
    {
      "cell_type": "code",
      "source": [
        "pd.to_numeric(df[\"Mileage (kmpl)\"])\n",
        "pd.to_numeric(df[\"Engine (CC)\"])\n",
        "pd.to_numeric(df[\"Power (bhp)\"])"
      ],
      "metadata": {
        "colab": {
          "base_uri": "https://localhost:8080/"
        },
        "id": "zWEQM1wLA8qP",
        "outputId": "8704c9aa-d9a3-4eef-ef47-10542be99cd0"
      },
      "id": "zWEQM1wLA8qP",
      "execution_count": null,
      "outputs": [
        {
          "output_type": "execute_result",
          "data": {
            "text/plain": [
              "0       126.20\n",
              "1        88.70\n",
              "2        88.76\n",
              "3       140.80\n",
              "4        63.10\n",
              "         ...  \n",
              "5842     74.00\n",
              "5843     71.00\n",
              "5844    112.00\n",
              "5845     67.10\n",
              "5846     57.60\n",
              "Name: Power (bhp), Length: 5843, dtype: float64"
            ]
          },
          "metadata": {},
          "execution_count": 181
        }
      ]
    },
    {
      "cell_type": "markdown",
      "id": "0dbbf5b4",
      "metadata": {
        "id": "0dbbf5b4"
      },
      "source": [
        "### 3.4 Checking the number of unique values of each column"
      ]
    },
    {
      "cell_type": "code",
      "execution_count": null,
      "id": "2c2b61b6",
      "metadata": {
        "colab": {
          "base_uri": "https://localhost:8080/"
        },
        "id": "2c2b61b6",
        "outputId": "6e4524a9-9a71-4932-e5fd-e254ed6049b5"
      },
      "outputs": [
        {
          "output_type": "execute_result",
          "data": {
            "text/plain": [
              "Location               11\n",
              "Year                   22\n",
              "Kilometers_Driven    3019\n",
              "Fuel_Type               2\n",
              "Transmission            2\n",
              "Owner_Type              4\n",
              "Mileage (kmpl)        418\n",
              "Engine (CC)           140\n",
              "Power (bhp)           359\n",
              "Seats                   9\n",
              "Price                1366\n",
              "dtype: int64"
            ]
          },
          "metadata": {},
          "execution_count": 182
        }
      ],
      "source": [
        "df.nunique()"
      ]
    },
    {
      "cell_type": "markdown",
      "id": "a4f6b022",
      "metadata": {
        "id": "a4f6b022"
      },
      "source": [
        "### 3.5 Check statistics of data set"
      ]
    },
    {
      "cell_type": "code",
      "execution_count": null,
      "id": "76c608dc",
      "metadata": {
        "colab": {
          "base_uri": "https://localhost:8080/",
          "height": 300
        },
        "id": "76c608dc",
        "outputId": "046f9811-6ed2-416d-c95f-0b53892654b5"
      },
      "outputs": [
        {
          "output_type": "execute_result",
          "data": {
            "text/plain": [
              "              Year  Kilometers_Driven  Mileage (kmpl)  Engine (CC)  \\\n",
              "count  5843.000000       5.843000e+03     5843.000000  5843.000000   \n",
              "mean   2013.449084       5.842014e+04       18.156652  1621.979858   \n",
              "std       3.194419       9.241024e+04        4.357271   613.209824   \n",
              "min    1998.000000       1.710000e+02        0.000000     5.286452   \n",
              "25%    2012.000000       3.346750e+04       15.230000  1198.000000   \n",
              "50%    2014.000000       5.261800e+04       18.190000  1496.000000   \n",
              "75%    2016.000000       7.249750e+04       21.100000  1991.000000   \n",
              "max    2019.000000       6.500000e+06       28.400000  5998.000000   \n",
              "\n",
              "       Power (bhp)        Seats        Price  \n",
              "count  5843.000000  5843.000000  5843.000000  \n",
              "mean    113.172357     5.286648     9.654532  \n",
              "std      54.395491     0.804282    11.279118  \n",
              "min       5.286452     2.000000     0.440000  \n",
              "25%      76.000000     5.000000     3.550000  \n",
              "50%      98.590000     5.000000     5.750000  \n",
              "75%     138.100000     5.000000    10.250000  \n",
              "max     560.000000    10.000000   160.000000  "
            ],
            "text/html": [
              "\n",
              "  <div id=\"df-c1f0ca47-ab60-4a4e-8f83-9e78e468e61c\" class=\"colab-df-container\">\n",
              "    <div>\n",
              "<style scoped>\n",
              "    .dataframe tbody tr th:only-of-type {\n",
              "        vertical-align: middle;\n",
              "    }\n",
              "\n",
              "    .dataframe tbody tr th {\n",
              "        vertical-align: top;\n",
              "    }\n",
              "\n",
              "    .dataframe thead th {\n",
              "        text-align: right;\n",
              "    }\n",
              "</style>\n",
              "<table border=\"1\" class=\"dataframe\">\n",
              "  <thead>\n",
              "    <tr style=\"text-align: right;\">\n",
              "      <th></th>\n",
              "      <th>Year</th>\n",
              "      <th>Kilometers_Driven</th>\n",
              "      <th>Mileage (kmpl)</th>\n",
              "      <th>Engine (CC)</th>\n",
              "      <th>Power (bhp)</th>\n",
              "      <th>Seats</th>\n",
              "      <th>Price</th>\n",
              "    </tr>\n",
              "  </thead>\n",
              "  <tbody>\n",
              "    <tr>\n",
              "      <th>count</th>\n",
              "      <td>5843.000000</td>\n",
              "      <td>5.843000e+03</td>\n",
              "      <td>5843.000000</td>\n",
              "      <td>5843.000000</td>\n",
              "      <td>5843.000000</td>\n",
              "      <td>5843.000000</td>\n",
              "      <td>5843.000000</td>\n",
              "    </tr>\n",
              "    <tr>\n",
              "      <th>mean</th>\n",
              "      <td>2013.449084</td>\n",
              "      <td>5.842014e+04</td>\n",
              "      <td>18.156652</td>\n",
              "      <td>1621.979858</td>\n",
              "      <td>113.172357</td>\n",
              "      <td>5.286648</td>\n",
              "      <td>9.654532</td>\n",
              "    </tr>\n",
              "    <tr>\n",
              "      <th>std</th>\n",
              "      <td>3.194419</td>\n",
              "      <td>9.241024e+04</td>\n",
              "      <td>4.357271</td>\n",
              "      <td>613.209824</td>\n",
              "      <td>54.395491</td>\n",
              "      <td>0.804282</td>\n",
              "      <td>11.279118</td>\n",
              "    </tr>\n",
              "    <tr>\n",
              "      <th>min</th>\n",
              "      <td>1998.000000</td>\n",
              "      <td>1.710000e+02</td>\n",
              "      <td>0.000000</td>\n",
              "      <td>5.286452</td>\n",
              "      <td>5.286452</td>\n",
              "      <td>2.000000</td>\n",
              "      <td>0.440000</td>\n",
              "    </tr>\n",
              "    <tr>\n",
              "      <th>25%</th>\n",
              "      <td>2012.000000</td>\n",
              "      <td>3.346750e+04</td>\n",
              "      <td>15.230000</td>\n",
              "      <td>1198.000000</td>\n",
              "      <td>76.000000</td>\n",
              "      <td>5.000000</td>\n",
              "      <td>3.550000</td>\n",
              "    </tr>\n",
              "    <tr>\n",
              "      <th>50%</th>\n",
              "      <td>2014.000000</td>\n",
              "      <td>5.261800e+04</td>\n",
              "      <td>18.190000</td>\n",
              "      <td>1496.000000</td>\n",
              "      <td>98.590000</td>\n",
              "      <td>5.000000</td>\n",
              "      <td>5.750000</td>\n",
              "    </tr>\n",
              "    <tr>\n",
              "      <th>75%</th>\n",
              "      <td>2016.000000</td>\n",
              "      <td>7.249750e+04</td>\n",
              "      <td>21.100000</td>\n",
              "      <td>1991.000000</td>\n",
              "      <td>138.100000</td>\n",
              "      <td>5.000000</td>\n",
              "      <td>10.250000</td>\n",
              "    </tr>\n",
              "    <tr>\n",
              "      <th>max</th>\n",
              "      <td>2019.000000</td>\n",
              "      <td>6.500000e+06</td>\n",
              "      <td>28.400000</td>\n",
              "      <td>5998.000000</td>\n",
              "      <td>560.000000</td>\n",
              "      <td>10.000000</td>\n",
              "      <td>160.000000</td>\n",
              "    </tr>\n",
              "  </tbody>\n",
              "</table>\n",
              "</div>\n",
              "    <div class=\"colab-df-buttons\">\n",
              "\n",
              "  <div class=\"colab-df-container\">\n",
              "    <button class=\"colab-df-convert\" onclick=\"convertToInteractive('df-c1f0ca47-ab60-4a4e-8f83-9e78e468e61c')\"\n",
              "            title=\"Convert this dataframe to an interactive table.\"\n",
              "            style=\"display:none;\">\n",
              "\n",
              "  <svg xmlns=\"http://www.w3.org/2000/svg\" height=\"24px\" viewBox=\"0 -960 960 960\">\n",
              "    <path d=\"M120-120v-720h720v720H120Zm60-500h600v-160H180v160Zm220 220h160v-160H400v160Zm0 220h160v-160H400v160ZM180-400h160v-160H180v160Zm440 0h160v-160H620v160ZM180-180h160v-160H180v160Zm440 0h160v-160H620v160Z\"/>\n",
              "  </svg>\n",
              "    </button>\n",
              "\n",
              "  <style>\n",
              "    .colab-df-container {\n",
              "      display:flex;\n",
              "      gap: 12px;\n",
              "    }\n",
              "\n",
              "    .colab-df-convert {\n",
              "      background-color: #E8F0FE;\n",
              "      border: none;\n",
              "      border-radius: 50%;\n",
              "      cursor: pointer;\n",
              "      display: none;\n",
              "      fill: #1967D2;\n",
              "      height: 32px;\n",
              "      padding: 0 0 0 0;\n",
              "      width: 32px;\n",
              "    }\n",
              "\n",
              "    .colab-df-convert:hover {\n",
              "      background-color: #E2EBFA;\n",
              "      box-shadow: 0px 1px 2px rgba(60, 64, 67, 0.3), 0px 1px 3px 1px rgba(60, 64, 67, 0.15);\n",
              "      fill: #174EA6;\n",
              "    }\n",
              "\n",
              "    .colab-df-buttons div {\n",
              "      margin-bottom: 4px;\n",
              "    }\n",
              "\n",
              "    [theme=dark] .colab-df-convert {\n",
              "      background-color: #3B4455;\n",
              "      fill: #D2E3FC;\n",
              "    }\n",
              "\n",
              "    [theme=dark] .colab-df-convert:hover {\n",
              "      background-color: #434B5C;\n",
              "      box-shadow: 0px 1px 3px 1px rgba(0, 0, 0, 0.15);\n",
              "      filter: drop-shadow(0px 1px 2px rgba(0, 0, 0, 0.3));\n",
              "      fill: #FFFFFF;\n",
              "    }\n",
              "  </style>\n",
              "\n",
              "    <script>\n",
              "      const buttonEl =\n",
              "        document.querySelector('#df-c1f0ca47-ab60-4a4e-8f83-9e78e468e61c button.colab-df-convert');\n",
              "      buttonEl.style.display =\n",
              "        google.colab.kernel.accessAllowed ? 'block' : 'none';\n",
              "\n",
              "      async function convertToInteractive(key) {\n",
              "        const element = document.querySelector('#df-c1f0ca47-ab60-4a4e-8f83-9e78e468e61c');\n",
              "        const dataTable =\n",
              "          await google.colab.kernel.invokeFunction('convertToInteractive',\n",
              "                                                    [key], {});\n",
              "        if (!dataTable) return;\n",
              "\n",
              "        const docLinkHtml = 'Like what you see? Visit the ' +\n",
              "          '<a target=\"_blank\" href=https://colab.research.google.com/notebooks/data_table.ipynb>data table notebook</a>'\n",
              "          + ' to learn more about interactive tables.';\n",
              "        element.innerHTML = '';\n",
              "        dataTable['output_type'] = 'display_data';\n",
              "        await google.colab.output.renderOutput(dataTable, element);\n",
              "        const docLink = document.createElement('div');\n",
              "        docLink.innerHTML = docLinkHtml;\n",
              "        element.appendChild(docLink);\n",
              "      }\n",
              "    </script>\n",
              "  </div>\n",
              "\n",
              "\n",
              "<div id=\"df-b06a1c17-86bc-4da2-882d-5b61b5f9a089\">\n",
              "  <button class=\"colab-df-quickchart\" onclick=\"quickchart('df-b06a1c17-86bc-4da2-882d-5b61b5f9a089')\"\n",
              "            title=\"Suggest charts.\"\n",
              "            style=\"display:none;\">\n",
              "\n",
              "<svg xmlns=\"http://www.w3.org/2000/svg\" height=\"24px\"viewBox=\"0 0 24 24\"\n",
              "     width=\"24px\">\n",
              "    <g>\n",
              "        <path d=\"M19 3H5c-1.1 0-2 .9-2 2v14c0 1.1.9 2 2 2h14c1.1 0 2-.9 2-2V5c0-1.1-.9-2-2-2zM9 17H7v-7h2v7zm4 0h-2V7h2v10zm4 0h-2v-4h2v4z\"/>\n",
              "    </g>\n",
              "</svg>\n",
              "  </button>\n",
              "\n",
              "<style>\n",
              "  .colab-df-quickchart {\n",
              "      --bg-color: #E8F0FE;\n",
              "      --fill-color: #1967D2;\n",
              "      --hover-bg-color: #E2EBFA;\n",
              "      --hover-fill-color: #174EA6;\n",
              "      --disabled-fill-color: #AAA;\n",
              "      --disabled-bg-color: #DDD;\n",
              "  }\n",
              "\n",
              "  [theme=dark] .colab-df-quickchart {\n",
              "      --bg-color: #3B4455;\n",
              "      --fill-color: #D2E3FC;\n",
              "      --hover-bg-color: #434B5C;\n",
              "      --hover-fill-color: #FFFFFF;\n",
              "      --disabled-bg-color: #3B4455;\n",
              "      --disabled-fill-color: #666;\n",
              "  }\n",
              "\n",
              "  .colab-df-quickchart {\n",
              "    background-color: var(--bg-color);\n",
              "    border: none;\n",
              "    border-radius: 50%;\n",
              "    cursor: pointer;\n",
              "    display: none;\n",
              "    fill: var(--fill-color);\n",
              "    height: 32px;\n",
              "    padding: 0;\n",
              "    width: 32px;\n",
              "  }\n",
              "\n",
              "  .colab-df-quickchart:hover {\n",
              "    background-color: var(--hover-bg-color);\n",
              "    box-shadow: 0 1px 2px rgba(60, 64, 67, 0.3), 0 1px 3px 1px rgba(60, 64, 67, 0.15);\n",
              "    fill: var(--button-hover-fill-color);\n",
              "  }\n",
              "\n",
              "  .colab-df-quickchart-complete:disabled,\n",
              "  .colab-df-quickchart-complete:disabled:hover {\n",
              "    background-color: var(--disabled-bg-color);\n",
              "    fill: var(--disabled-fill-color);\n",
              "    box-shadow: none;\n",
              "  }\n",
              "\n",
              "  .colab-df-spinner {\n",
              "    border: 2px solid var(--fill-color);\n",
              "    border-color: transparent;\n",
              "    border-bottom-color: var(--fill-color);\n",
              "    animation:\n",
              "      spin 1s steps(1) infinite;\n",
              "  }\n",
              "\n",
              "  @keyframes spin {\n",
              "    0% {\n",
              "      border-color: transparent;\n",
              "      border-bottom-color: var(--fill-color);\n",
              "      border-left-color: var(--fill-color);\n",
              "    }\n",
              "    20% {\n",
              "      border-color: transparent;\n",
              "      border-left-color: var(--fill-color);\n",
              "      border-top-color: var(--fill-color);\n",
              "    }\n",
              "    30% {\n",
              "      border-color: transparent;\n",
              "      border-left-color: var(--fill-color);\n",
              "      border-top-color: var(--fill-color);\n",
              "      border-right-color: var(--fill-color);\n",
              "    }\n",
              "    40% {\n",
              "      border-color: transparent;\n",
              "      border-right-color: var(--fill-color);\n",
              "      border-top-color: var(--fill-color);\n",
              "    }\n",
              "    60% {\n",
              "      border-color: transparent;\n",
              "      border-right-color: var(--fill-color);\n",
              "    }\n",
              "    80% {\n",
              "      border-color: transparent;\n",
              "      border-right-color: var(--fill-color);\n",
              "      border-bottom-color: var(--fill-color);\n",
              "    }\n",
              "    90% {\n",
              "      border-color: transparent;\n",
              "      border-bottom-color: var(--fill-color);\n",
              "    }\n",
              "  }\n",
              "</style>\n",
              "\n",
              "  <script>\n",
              "    async function quickchart(key) {\n",
              "      const quickchartButtonEl =\n",
              "        document.querySelector('#' + key + ' button');\n",
              "      quickchartButtonEl.disabled = true;  // To prevent multiple clicks.\n",
              "      quickchartButtonEl.classList.add('colab-df-spinner');\n",
              "      try {\n",
              "        const charts = await google.colab.kernel.invokeFunction(\n",
              "            'suggestCharts', [key], {});\n",
              "      } catch (error) {\n",
              "        console.error('Error during call to suggestCharts:', error);\n",
              "      }\n",
              "      quickchartButtonEl.classList.remove('colab-df-spinner');\n",
              "      quickchartButtonEl.classList.add('colab-df-quickchart-complete');\n",
              "    }\n",
              "    (() => {\n",
              "      let quickchartButtonEl =\n",
              "        document.querySelector('#df-b06a1c17-86bc-4da2-882d-5b61b5f9a089 button');\n",
              "      quickchartButtonEl.style.display =\n",
              "        google.colab.kernel.accessAllowed ? 'block' : 'none';\n",
              "    })();\n",
              "  </script>\n",
              "</div>\n",
              "    </div>\n",
              "  </div>\n"
            ]
          },
          "metadata": {},
          "execution_count": 183
        }
      ],
      "source": [
        "df.describe()"
      ]
    },
    {
      "cell_type": "markdown",
      "source": [
        "####  Insights\n",
        "- There is a big variation between the car's price."
      ],
      "metadata": {
        "id": "GNEjkpp-iXEG"
      },
      "id": "GNEjkpp-iXEG"
    },
    {
      "cell_type": "markdown",
      "id": "ac52d9cb",
      "metadata": {
        "id": "ac52d9cb"
      },
      "source": [
        "### 3.6 Exploring Data"
      ]
    },
    {
      "cell_type": "code",
      "execution_count": null,
      "id": "1afd3c09",
      "metadata": {
        "colab": {
          "base_uri": "https://localhost:8080/",
          "height": 206
        },
        "id": "1afd3c09",
        "outputId": "333a768d-469e-4dbc-cb82-bdee1e8af2d3"
      },
      "outputs": [
        {
          "output_type": "execute_result",
          "data": {
            "text/plain": [
              "     Location  Year  Kilometers_Driven Fuel_Type Transmission Owner_Type  \\\n",
              "0        Pune  2015              41000    Diesel       Manual      First   \n",
              "1     Chennai  2011              46000    Petrol       Manual      First   \n",
              "2     Chennai  2012              87000    Diesel       Manual      First   \n",
              "3  Coimbatore  2013              40670    Diesel    Automatic     Second   \n",
              "4      Jaipur  2013              86999    Diesel       Manual      First   \n",
              "\n",
              "   Mileage (kmpl)  Engine (CC)  Power (bhp)  Seats  Price  \n",
              "0           19.67       1582.0       126.20    5.0  12.50  \n",
              "1           13.00       1199.0        88.70    5.0   4.50  \n",
              "2           20.77       1248.0        88.76    7.0   6.00  \n",
              "3           15.20       1968.0       140.80    5.0  17.74  \n",
              "4           23.08       1461.0        63.10    5.0   3.50  "
            ],
            "text/html": [
              "\n",
              "  <div id=\"df-51f0a5a0-3562-468e-a7f2-8b20059a52e9\" class=\"colab-df-container\">\n",
              "    <div>\n",
              "<style scoped>\n",
              "    .dataframe tbody tr th:only-of-type {\n",
              "        vertical-align: middle;\n",
              "    }\n",
              "\n",
              "    .dataframe tbody tr th {\n",
              "        vertical-align: top;\n",
              "    }\n",
              "\n",
              "    .dataframe thead th {\n",
              "        text-align: right;\n",
              "    }\n",
              "</style>\n",
              "<table border=\"1\" class=\"dataframe\">\n",
              "  <thead>\n",
              "    <tr style=\"text-align: right;\">\n",
              "      <th></th>\n",
              "      <th>Location</th>\n",
              "      <th>Year</th>\n",
              "      <th>Kilometers_Driven</th>\n",
              "      <th>Fuel_Type</th>\n",
              "      <th>Transmission</th>\n",
              "      <th>Owner_Type</th>\n",
              "      <th>Mileage (kmpl)</th>\n",
              "      <th>Engine (CC)</th>\n",
              "      <th>Power (bhp)</th>\n",
              "      <th>Seats</th>\n",
              "      <th>Price</th>\n",
              "    </tr>\n",
              "  </thead>\n",
              "  <tbody>\n",
              "    <tr>\n",
              "      <th>0</th>\n",
              "      <td>Pune</td>\n",
              "      <td>2015</td>\n",
              "      <td>41000</td>\n",
              "      <td>Diesel</td>\n",
              "      <td>Manual</td>\n",
              "      <td>First</td>\n",
              "      <td>19.67</td>\n",
              "      <td>1582.0</td>\n",
              "      <td>126.20</td>\n",
              "      <td>5.0</td>\n",
              "      <td>12.50</td>\n",
              "    </tr>\n",
              "    <tr>\n",
              "      <th>1</th>\n",
              "      <td>Chennai</td>\n",
              "      <td>2011</td>\n",
              "      <td>46000</td>\n",
              "      <td>Petrol</td>\n",
              "      <td>Manual</td>\n",
              "      <td>First</td>\n",
              "      <td>13.00</td>\n",
              "      <td>1199.0</td>\n",
              "      <td>88.70</td>\n",
              "      <td>5.0</td>\n",
              "      <td>4.50</td>\n",
              "    </tr>\n",
              "    <tr>\n",
              "      <th>2</th>\n",
              "      <td>Chennai</td>\n",
              "      <td>2012</td>\n",
              "      <td>87000</td>\n",
              "      <td>Diesel</td>\n",
              "      <td>Manual</td>\n",
              "      <td>First</td>\n",
              "      <td>20.77</td>\n",
              "      <td>1248.0</td>\n",
              "      <td>88.76</td>\n",
              "      <td>7.0</td>\n",
              "      <td>6.00</td>\n",
              "    </tr>\n",
              "    <tr>\n",
              "      <th>3</th>\n",
              "      <td>Coimbatore</td>\n",
              "      <td>2013</td>\n",
              "      <td>40670</td>\n",
              "      <td>Diesel</td>\n",
              "      <td>Automatic</td>\n",
              "      <td>Second</td>\n",
              "      <td>15.20</td>\n",
              "      <td>1968.0</td>\n",
              "      <td>140.80</td>\n",
              "      <td>5.0</td>\n",
              "      <td>17.74</td>\n",
              "    </tr>\n",
              "    <tr>\n",
              "      <th>4</th>\n",
              "      <td>Jaipur</td>\n",
              "      <td>2013</td>\n",
              "      <td>86999</td>\n",
              "      <td>Diesel</td>\n",
              "      <td>Manual</td>\n",
              "      <td>First</td>\n",
              "      <td>23.08</td>\n",
              "      <td>1461.0</td>\n",
              "      <td>63.10</td>\n",
              "      <td>5.0</td>\n",
              "      <td>3.50</td>\n",
              "    </tr>\n",
              "  </tbody>\n",
              "</table>\n",
              "</div>\n",
              "    <div class=\"colab-df-buttons\">\n",
              "\n",
              "  <div class=\"colab-df-container\">\n",
              "    <button class=\"colab-df-convert\" onclick=\"convertToInteractive('df-51f0a5a0-3562-468e-a7f2-8b20059a52e9')\"\n",
              "            title=\"Convert this dataframe to an interactive table.\"\n",
              "            style=\"display:none;\">\n",
              "\n",
              "  <svg xmlns=\"http://www.w3.org/2000/svg\" height=\"24px\" viewBox=\"0 -960 960 960\">\n",
              "    <path d=\"M120-120v-720h720v720H120Zm60-500h600v-160H180v160Zm220 220h160v-160H400v160Zm0 220h160v-160H400v160ZM180-400h160v-160H180v160Zm440 0h160v-160H620v160ZM180-180h160v-160H180v160Zm440 0h160v-160H620v160Z\"/>\n",
              "  </svg>\n",
              "    </button>\n",
              "\n",
              "  <style>\n",
              "    .colab-df-container {\n",
              "      display:flex;\n",
              "      gap: 12px;\n",
              "    }\n",
              "\n",
              "    .colab-df-convert {\n",
              "      background-color: #E8F0FE;\n",
              "      border: none;\n",
              "      border-radius: 50%;\n",
              "      cursor: pointer;\n",
              "      display: none;\n",
              "      fill: #1967D2;\n",
              "      height: 32px;\n",
              "      padding: 0 0 0 0;\n",
              "      width: 32px;\n",
              "    }\n",
              "\n",
              "    .colab-df-convert:hover {\n",
              "      background-color: #E2EBFA;\n",
              "      box-shadow: 0px 1px 2px rgba(60, 64, 67, 0.3), 0px 1px 3px 1px rgba(60, 64, 67, 0.15);\n",
              "      fill: #174EA6;\n",
              "    }\n",
              "\n",
              "    .colab-df-buttons div {\n",
              "      margin-bottom: 4px;\n",
              "    }\n",
              "\n",
              "    [theme=dark] .colab-df-convert {\n",
              "      background-color: #3B4455;\n",
              "      fill: #D2E3FC;\n",
              "    }\n",
              "\n",
              "    [theme=dark] .colab-df-convert:hover {\n",
              "      background-color: #434B5C;\n",
              "      box-shadow: 0px 1px 3px 1px rgba(0, 0, 0, 0.15);\n",
              "      filter: drop-shadow(0px 1px 2px rgba(0, 0, 0, 0.3));\n",
              "      fill: #FFFFFF;\n",
              "    }\n",
              "  </style>\n",
              "\n",
              "    <script>\n",
              "      const buttonEl =\n",
              "        document.querySelector('#df-51f0a5a0-3562-468e-a7f2-8b20059a52e9 button.colab-df-convert');\n",
              "      buttonEl.style.display =\n",
              "        google.colab.kernel.accessAllowed ? 'block' : 'none';\n",
              "\n",
              "      async function convertToInteractive(key) {\n",
              "        const element = document.querySelector('#df-51f0a5a0-3562-468e-a7f2-8b20059a52e9');\n",
              "        const dataTable =\n",
              "          await google.colab.kernel.invokeFunction('convertToInteractive',\n",
              "                                                    [key], {});\n",
              "        if (!dataTable) return;\n",
              "\n",
              "        const docLinkHtml = 'Like what you see? Visit the ' +\n",
              "          '<a target=\"_blank\" href=https://colab.research.google.com/notebooks/data_table.ipynb>data table notebook</a>'\n",
              "          + ' to learn more about interactive tables.';\n",
              "        element.innerHTML = '';\n",
              "        dataTable['output_type'] = 'display_data';\n",
              "        await google.colab.output.renderOutput(dataTable, element);\n",
              "        const docLink = document.createElement('div');\n",
              "        docLink.innerHTML = docLinkHtml;\n",
              "        element.appendChild(docLink);\n",
              "      }\n",
              "    </script>\n",
              "  </div>\n",
              "\n",
              "\n",
              "<div id=\"df-cf6c22a0-b359-4f2a-9965-1e559c839c26\">\n",
              "  <button class=\"colab-df-quickchart\" onclick=\"quickchart('df-cf6c22a0-b359-4f2a-9965-1e559c839c26')\"\n",
              "            title=\"Suggest charts.\"\n",
              "            style=\"display:none;\">\n",
              "\n",
              "<svg xmlns=\"http://www.w3.org/2000/svg\" height=\"24px\"viewBox=\"0 0 24 24\"\n",
              "     width=\"24px\">\n",
              "    <g>\n",
              "        <path d=\"M19 3H5c-1.1 0-2 .9-2 2v14c0 1.1.9 2 2 2h14c1.1 0 2-.9 2-2V5c0-1.1-.9-2-2-2zM9 17H7v-7h2v7zm4 0h-2V7h2v10zm4 0h-2v-4h2v4z\"/>\n",
              "    </g>\n",
              "</svg>\n",
              "  </button>\n",
              "\n",
              "<style>\n",
              "  .colab-df-quickchart {\n",
              "      --bg-color: #E8F0FE;\n",
              "      --fill-color: #1967D2;\n",
              "      --hover-bg-color: #E2EBFA;\n",
              "      --hover-fill-color: #174EA6;\n",
              "      --disabled-fill-color: #AAA;\n",
              "      --disabled-bg-color: #DDD;\n",
              "  }\n",
              "\n",
              "  [theme=dark] .colab-df-quickchart {\n",
              "      --bg-color: #3B4455;\n",
              "      --fill-color: #D2E3FC;\n",
              "      --hover-bg-color: #434B5C;\n",
              "      --hover-fill-color: #FFFFFF;\n",
              "      --disabled-bg-color: #3B4455;\n",
              "      --disabled-fill-color: #666;\n",
              "  }\n",
              "\n",
              "  .colab-df-quickchart {\n",
              "    background-color: var(--bg-color);\n",
              "    border: none;\n",
              "    border-radius: 50%;\n",
              "    cursor: pointer;\n",
              "    display: none;\n",
              "    fill: var(--fill-color);\n",
              "    height: 32px;\n",
              "    padding: 0;\n",
              "    width: 32px;\n",
              "  }\n",
              "\n",
              "  .colab-df-quickchart:hover {\n",
              "    background-color: var(--hover-bg-color);\n",
              "    box-shadow: 0 1px 2px rgba(60, 64, 67, 0.3), 0 1px 3px 1px rgba(60, 64, 67, 0.15);\n",
              "    fill: var(--button-hover-fill-color);\n",
              "  }\n",
              "\n",
              "  .colab-df-quickchart-complete:disabled,\n",
              "  .colab-df-quickchart-complete:disabled:hover {\n",
              "    background-color: var(--disabled-bg-color);\n",
              "    fill: var(--disabled-fill-color);\n",
              "    box-shadow: none;\n",
              "  }\n",
              "\n",
              "  .colab-df-spinner {\n",
              "    border: 2px solid var(--fill-color);\n",
              "    border-color: transparent;\n",
              "    border-bottom-color: var(--fill-color);\n",
              "    animation:\n",
              "      spin 1s steps(1) infinite;\n",
              "  }\n",
              "\n",
              "  @keyframes spin {\n",
              "    0% {\n",
              "      border-color: transparent;\n",
              "      border-bottom-color: var(--fill-color);\n",
              "      border-left-color: var(--fill-color);\n",
              "    }\n",
              "    20% {\n",
              "      border-color: transparent;\n",
              "      border-left-color: var(--fill-color);\n",
              "      border-top-color: var(--fill-color);\n",
              "    }\n",
              "    30% {\n",
              "      border-color: transparent;\n",
              "      border-left-color: var(--fill-color);\n",
              "      border-top-color: var(--fill-color);\n",
              "      border-right-color: var(--fill-color);\n",
              "    }\n",
              "    40% {\n",
              "      border-color: transparent;\n",
              "      border-right-color: var(--fill-color);\n",
              "      border-top-color: var(--fill-color);\n",
              "    }\n",
              "    60% {\n",
              "      border-color: transparent;\n",
              "      border-right-color: var(--fill-color);\n",
              "    }\n",
              "    80% {\n",
              "      border-color: transparent;\n",
              "      border-right-color: var(--fill-color);\n",
              "      border-bottom-color: var(--fill-color);\n",
              "    }\n",
              "    90% {\n",
              "      border-color: transparent;\n",
              "      border-bottom-color: var(--fill-color);\n",
              "    }\n",
              "  }\n",
              "</style>\n",
              "\n",
              "  <script>\n",
              "    async function quickchart(key) {\n",
              "      const quickchartButtonEl =\n",
              "        document.querySelector('#' + key + ' button');\n",
              "      quickchartButtonEl.disabled = true;  // To prevent multiple clicks.\n",
              "      quickchartButtonEl.classList.add('colab-df-spinner');\n",
              "      try {\n",
              "        const charts = await google.colab.kernel.invokeFunction(\n",
              "            'suggestCharts', [key], {});\n",
              "      } catch (error) {\n",
              "        console.error('Error during call to suggestCharts:', error);\n",
              "      }\n",
              "      quickchartButtonEl.classList.remove('colab-df-spinner');\n",
              "      quickchartButtonEl.classList.add('colab-df-quickchart-complete');\n",
              "    }\n",
              "    (() => {\n",
              "      let quickchartButtonEl =\n",
              "        document.querySelector('#df-cf6c22a0-b359-4f2a-9965-1e559c839c26 button');\n",
              "      quickchartButtonEl.style.display =\n",
              "        google.colab.kernel.accessAllowed ? 'block' : 'none';\n",
              "    })();\n",
              "  </script>\n",
              "</div>\n",
              "    </div>\n",
              "  </div>\n"
            ]
          },
          "metadata": {},
          "execution_count": 163
        }
      ],
      "source": [
        "df.head()"
      ]
    },
    {
      "cell_type": "code",
      "execution_count": null,
      "id": "2dd97e26",
      "metadata": {
        "colab": {
          "base_uri": "https://localhost:8080/"
        },
        "id": "2dd97e26",
        "outputId": "24906ad0-eaa7-4afe-f15c-c9c0c4400791"
      },
      "outputs": [
        {
          "output_type": "stream",
          "name": "stdout",
          "text": [
            "We have 7 numerical features : ['Year', 'Kilometers_Driven', 'Mileage (kmpl)', 'Engine (CC)', 'Power (bhp)', 'Seats', 'Price']\n",
            "\n",
            "We have 4 categorical features : ['Location', 'Fuel_Type', 'Transmission', 'Owner_Type']\n"
          ]
        }
      ],
      "source": [
        "# define numerical & categorical columns\n",
        "numeric_features = [feature for feature in df.columns if df[feature].dtype != 'O']\n",
        "categorical_features = [feature for feature in df.columns if df[feature].dtype == 'O']\n",
        "\n",
        "# print columns\n",
        "print('We have {} numerical features : {}'.format(len(numeric_features), numeric_features))\n",
        "print('\\nWe have {} categorical features : {}'.format(len(categorical_features), categorical_features))"
      ]
    },
    {
      "cell_type": "code",
      "execution_count": null,
      "id": "b9081742",
      "metadata": {
        "colab": {
          "base_uri": "https://localhost:8080/"
        },
        "id": "b9081742",
        "outputId": "1fc0bebb-b736-4dd0-c9b2-8d310ced9770"
      },
      "outputs": [
        {
          "output_type": "stream",
          "name": "stdout",
          "text": [
            "Categories in 'Location' variable: ['Pune' 'Chennai' 'Coimbatore' 'Jaipur' 'Mumbai' 'Kochi' 'Kolkata' 'Delhi'\n",
            " 'Bangalore' 'Hyderabad' 'Ahmedabad']\n",
            "Categories in 'Fuel_Type' variable:  ['Diesel' 'Petrol']\n",
            "Categories in 'Transmission' variable: ['Manual' 'Automatic']\n",
            "Categories in 'Owner_Type' variable: ['First' 'Second' 'Fourth & Above' 'Third']\n"
          ]
        }
      ],
      "source": [
        "print(f\"Categories in 'Location' variable: {df['Location'].unique()}\")\n",
        "\n",
        "print(f\"Categories in 'Fuel_Type' variable:  {df['Fuel_Type'].unique()}\")\n",
        "\n",
        "print(f\"Categories in 'Transmission' variable: {df['Transmission'].unique()}\")\n",
        "\n",
        "print(f\"Categories in 'Owner_Type' variable: {df['Owner_Type'].unique()}\")"
      ]
    },
    {
      "cell_type": "code",
      "source": [],
      "metadata": {
        "id": "UIR0z9vX0oUE"
      },
      "id": "UIR0z9vX0oUE",
      "execution_count": null,
      "outputs": []
    },
    {
      "cell_type": "markdown",
      "id": "e598bc93",
      "metadata": {
        "id": "e598bc93"
      },
      "source": [
        "### 4. Exploring Data ( Visualization )"
      ]
    },
    {
      "cell_type": "markdown",
      "source": [
        "#### 4.1. Correlation"
      ],
      "metadata": {
        "id": "ef6LrLIrezO9"
      },
      "id": "ef6LrLIrezO9"
    },
    {
      "cell_type": "code",
      "source": [
        "sns.heatmap(df.corr(), cmap=\"YlGnBu\", annot=True)"
      ],
      "metadata": {
        "colab": {
          "base_uri": "https://localhost:8080/",
          "height": 566
        },
        "id": "OdBdblioZz2k",
        "outputId": "93e8fbc3-a150-4f40-b583-3629c52f798c"
      },
      "id": "OdBdblioZz2k",
      "execution_count": null,
      "outputs": [
        {
          "output_type": "execute_result",
          "data": {
            "text/plain": [
              "<Axes: >"
            ]
          },
          "metadata": {},
          "execution_count": 166
        },
        {
          "output_type": "display_data",
          "data": {
            "text/plain": [
              "<Figure size 640x480 with 2 Axes>"
            ],
            "image/png": "[encoded data removed]"
          },
          "metadata": {}
        }
      ]
    },
    {
      "cell_type": "markdown",
      "source": [
        "#####  Insights\n",
        "- The **Engines** and car **Power** are 2 major factors in the car price.\n",
        "- We may think that the number of **Seats** and **Kilometers Driven** impact the car price, based on the map of correlation, it seems that they don't."
      ],
      "metadata": {
        "id": "g2SsmZgkfNuo"
      },
      "id": "g2SsmZgkfNuo"
    },
    {
      "cell_type": "markdown",
      "id": "f4726058",
      "metadata": {
        "id": "f4726058"
      },
      "source": [
        "#### 4.2 Visualize price car distribution to make some conclusion."
      ]
    },
    {
      "cell_type": "code",
      "execution_count": null,
      "id": "c2510266",
      "metadata": {
        "colab": {
          "base_uri": "https://localhost:8080/",
          "height": 619
        },
        "id": "c2510266",
        "outputId": "3c79011c-7cad-49fe-e17d-e67033a7b94e"
      },
      "outputs": [
        {
          "output_type": "display_data",
          "data": {
            "text/plain": [
              "<Figure size 1500x700 with 2 Axes>"
            ],
            "image/png": "[encoded data removed]"
          },
          "metadata": {}
        }
      ],
      "source": [
        "fig, axs = plt.subplots(1, 2, figsize=(15, 7))\n",
        "plt.subplot(121)\n",
        "sns.histplot(data=df,x='Price',bins=30,kde=True,color='g')\n",
        "plt.subplot(122)\n",
        "sns.histplot(data=df,x='Price',kde=True,hue='Transmission')\n",
        "plt.show()"
      ]
    },
    {
      "cell_type": "markdown",
      "id": "3d200b76",
      "metadata": {
        "id": "3d200b76"
      },
      "source": [
        "#####  Insights\n",
        "- Manual cars are communly used, because they are cheaper than automatic cars."
      ]
    },
    {
      "cell_type": "code",
      "execution_count": null,
      "id": "e7967c7a",
      "metadata": {
        "colab": {
          "base_uri": "https://localhost:8080/",
          "height": 620
        },
        "id": "e7967c7a",
        "outputId": "d7ab8e25-32ee-4d90-8fd4-0c29baa68709"
      },
      "outputs": [
        {
          "output_type": "display_data",
          "data": {
            "text/plain": [
              "<Figure size 1500x700 with 2 Axes>"
            ],
            "image/png": "[encoded data removed]"
          },
          "metadata": {}
        }
      ],
      "source": [
        "fig, axs = plt.subplots(1, 2, figsize=(15, 7))\n",
        "plt.subplot(121)\n",
        "sns.histplot(data=df,x='Price',bins=30,kde=True,color='g')\n",
        "plt.subplot(122)\n",
        "sns.histplot(data=df,x='Price',kde=True,hue='Fuel_Type')\n",
        "plt.show()"
      ]
    },
    {
      "cell_type": "markdown",
      "source": [
        "#####  Insights\n",
        "- Petrol cars are communly used, and maybe because they are cheaper than Diesel/Petrol cars."
      ],
      "metadata": {
        "id": "9mqURvs1a4P5"
      },
      "id": "9mqURvs1a4P5"
    },
    {
      "cell_type": "markdown",
      "source": [
        "#### 4.3 Visualize the market trend"
      ],
      "metadata": {
        "id": "0MYJ-eqxg__8"
      },
      "id": "0MYJ-eqxg__8"
    },
    {
      "cell_type": "code",
      "source": [
        "# df.Year.value_counts().index\n",
        "sns.lineplot(x=df.Year.value_counts().index, y=df.Year.value_counts().values)\n",
        "\n",
        "# Customize the x-axis ticks\n",
        "plt.xticks(rotation=45)  # Rotate x-axis labels for better readability\n",
        "\n",
        "# Show more values on the x-axis\n",
        "# You can specify the desired tick positions and labels as needed\n",
        "xtick_positions = df.Year.value_counts().index\n",
        "xtick_labels = [str(year) for year in xtick_positions]\n",
        "\n",
        "plt.xticks(ticks=xtick_positions, labels=xtick_labels)\n",
        "\n",
        "plt.show()"
      ],
      "metadata": {
        "colab": {
          "base_uri": "https://localhost:8080/",
          "height": 451
        },
        "id": "ra1QeAlWmFbU",
        "outputId": "d44ce9e5-b944-4468-9e9c-654636ff211a"
      },
      "id": "ra1QeAlWmFbU",
      "execution_count": null,
      "outputs": [
        {
          "output_type": "display_data",
          "data": {
            "text/plain": [
              "<Figure size 640x480 with 1 Axes>"
            ],
            "image/png": "[encoded data removed]"
          },
          "metadata": {}
        }
      ]
    },
    {
      "cell_type": "code",
      "source": [
        "sns.lineplot(x=df_p.groupby(\"Year\").mean().index, y=df_p.groupby(\"Year\").mean().Price.values)"
      ],
      "metadata": {
        "colab": {
          "base_uri": "https://localhost:8080/",
          "height": 467
        },
        "id": "Jmu-avxBgnZT",
        "outputId": "c89168d5-bd58-45d6-e72f-49d72dc08705"
      },
      "id": "Jmu-avxBgnZT",
      "execution_count": null,
      "outputs": [
        {
          "output_type": "execute_result",
          "data": {
            "text/plain": [
              "<Axes: xlabel='Year'>"
            ]
          },
          "metadata": {},
          "execution_count": 56
        },
        {
          "output_type": "display_data",
          "data": {
            "text/plain": [
              "<Figure size 640x480 with 1 Axes>"
            ],
            "image/png": "[encoded data removed]"
          },
          "metadata": {}
        }
      ]
    },
    {
      "cell_type": "markdown",
      "source": [
        "#####  Insights\n",
        "- The market of selling/buying old cars is profitable.\n",
        "- The cars produced between 2010 - 2019 are the most sold ones.\n",
        "- The newer the car, the higher the price."
      ],
      "metadata": {
        "id": "FptQREM9k7m9"
      },
      "id": "FptQREM9k7m9"
    },
    {
      "cell_type": "markdown",
      "source": [
        "#### 4.4 Visualize the market partitions"
      ],
      "metadata": {
        "id": "nLZSkvObpYQi"
      },
      "id": "nLZSkvObpYQi"
    },
    {
      "cell_type": "code",
      "source": [
        "import matplotlib.pyplot as plt\n",
        "\n",
        "# Sample data for the first pie chart\n",
        "Owner_Type = list(df.Owner_Type.value_counts().index)\n",
        "values = list(df.Owner_Type.value_counts().values)\n",
        "pourcentage = list(round(i/df.Owner_Type.value_counts().values.sum(),3)*100 for i in df.Owner_Type.value_counts().values)\n",
        "colors = ['#CEE1F3', '#8ABCEA', '#4C96DA', '#012546']\n",
        "\n",
        "# Create subplots\n",
        "plt.figure(figsize=(20, 7))  # Adjust the figure size as needed\n",
        "\n",
        "# Custom autopct function for the first pie chart to display exact values\n",
        "def exact_values(pct):\n",
        "    total = sum(data1)\n",
        "    val = int(pct*total/100.0)\n",
        "    return f'{val}'\n",
        "\n",
        "# First pie chart\n",
        "plt.subplot(1, 2, 1)\n",
        "plt.pie(values, labels=Owner_Type, colors=colors, autopct=exact_values, startangle=140, textprops={'weight':'bold'})\n",
        "plt.title('Distribution of Owner type (Number)', fontsize = 16)\n",
        "\n",
        "# Second pie chart\n",
        "plt.subplot(1, 2, 2)\n",
        "plt.pie(pourcentage, labels=Owner_Type, colors=colors, autopct='%1.1f%%', startangle=140, textprops={'weight':'bold'})\n",
        "plt.title('Distribution of Owner type (Pourcentage)',fontsize = 16)\n",
        "\n",
        "# Ensure equal aspect ratio for both pie charts\n",
        "plt.axis('equal')\n",
        "\n",
        "plt.tight_layout()  # Ensure subplots don't overlap\n",
        "\n",
        "# Show the pie charts\n",
        "plt.show()"
      ],
      "metadata": {
        "colab": {
          "base_uri": "https://localhost:8080/",
          "height": 666
        },
        "id": "9L5Os42ugnLC",
        "outputId": "9f358810-6c2b-4c8b-f3c4-5f8810950fec"
      },
      "id": "9L5Os42ugnLC",
      "execution_count": null,
      "outputs": [
        {
          "output_type": "display_data",
          "data": {
            "text/plain": [
              "<Figure size 2000x700 with 2 Axes>"
            ],
            "image/png": "[encoded data removed]"
          },
          "metadata": {}
        }
      ]
    },
    {
      "cell_type": "markdown",
      "source": [
        "#####  Insights\n",
        "- The majority of cars on the market are offered by their first owner."
      ],
      "metadata": {
        "id": "tKnkDnNhx_if"
      },
      "id": "tKnkDnNhx_if"
    },
    {
      "cell_type": "code",
      "source": [],
      "metadata": {
        "id": "1-5keX8w0luQ"
      },
      "id": "1-5keX8w0luQ",
      "execution_count": null,
      "outputs": []
    },
    {
      "cell_type": "markdown",
      "id": "b7e20716",
      "metadata": {
        "id": "b7e20716"
      },
      "source": [
        "### 5. Conclusions\n",
        "- The market of selling/buying old cars is a growing market.\n",
        "- The **Engines** and car **Power** are 2 major factors in the car price.\n",
        "- The newer the car, the higher the price"
      ]
    }
  ],
  "metadata": {
    "kernelspec": {
      "display_name": "Python 3",
      "name": "python3"
    },
    "language_info": {
      "codemirror_mode": {
        "name": "ipython",
        "version": 3
      },
      "file_extension": ".py",
      "mimetype": "text/x-python",
      "name": "python",
      "nbconvert_exporter": "python",
      "pygments_lexer": "ipython3",
      "version": "3.8.0"
    },
    "vscode": {
      "interpreter": {
        "hash": "7f9dc718a552478e14f37d36e0ca2ac7de1ac15c04a40a415ea3abc3fe8a0a39"
      }
    },
    "colab": {
      "provenance": [],
      "gpuType": "T4"
    },
    "accelerator": "GPU"
  },
  "nbformat": 4,
  "nbformat_minor": 5
}